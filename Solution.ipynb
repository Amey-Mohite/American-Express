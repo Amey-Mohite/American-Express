{
  "nbformat": 4,
  "nbformat_minor": 0,
  "metadata": {
    "colab": {
      "name": "Solution.ipynb",
      "version": "0.3.2",
      "provenance": [],
      "collapsed_sections": []
    },
    "kernelspec": {
      "name": "python3",
      "display_name": "Python 3"
    },
    "accelerator": "GPU"
  },
  "cells": [
    {
      "cell_type": "code",
      "metadata": {
        "id": "TfYd4lj5e4Aj",
        "colab_type": "code",
        "outputId": "792dccf1-8dfb-453f-f425-44d5ba149bea",
        "colab": {
          "base_uri": "https://localhost:8080/",
          "height": 121
        }
      },
      "source": [
        "from google.colab import drive\n",
        "drive.mount('/content/gdrive')"
      ],
      "execution_count": 0,
      "outputs": [
        {
          "output_type": "stream",
          "text": [
            "Go to this URL in a browser: https://accounts.google.com/o/oauth2/auth?client_id=947318989803-6bn6qk8qdgf4n4g3pfee6491hc0brc4i.apps.googleusercontent.com&redirect_uri=urn%3Aietf%3Awg%3Aoauth%3A2.0%3Aoob&scope=email%20https%3A%2F%2Fwww.googleapis.com%2Fauth%2Fdocs.test%20https%3A%2F%2Fwww.googleapis.com%2Fauth%2Fdrive%20https%3A%2F%2Fwww.googleapis.com%2Fauth%2Fdrive.photos.readonly%20https%3A%2F%2Fwww.googleapis.com%2Fauth%2Fpeopleapi.readonly&response_type=code\n",
            "\n",
            "Enter your authorization code:\n",
            "··········\n",
            "Mounted at /content/gdrive\n"
          ],
          "name": "stdout"
        }
      ]
    },
    {
      "cell_type": "code",
      "metadata": {
        "id": "rUQW5P8Ge8dQ",
        "colab_type": "code",
        "colab": {}
      },
      "source": [
        "import pandas as pd \n",
        "from sklearn.feature_selection import VarianceThreshold\n",
        "import numpy as np\n",
        "from sklearn.preprocessing import StandardScaler\n",
        "from sklearn import preprocessing\n",
        "from sklearn.model_selection import train_test_split as tts\n",
        "from sklearn.metrics import r2_score,mean_squared_error,mean_squared_log_error\n",
        "from math import sqrt\n",
        "from keras.callbacks import ModelCheckpoint\n",
        "from keras.models import Sequential\n",
        "from keras.layers import Dense, Activation, Flatten,Dropout \n",
        "from matplotlib import pyplot as plt\n",
        "import seaborn as sb\n",
        "import matplotlib.pyplot as plt\n",
        "import pandas as pd\n",
        "import numpy as np\n",
        "import warnings \n",
        "warnings.filterwarnings('ignore')\n",
        "warnings.filterwarnings('ignore', category=DeprecationWarning)"
      ],
      "execution_count": 0,
      "outputs": []
    },
    {
      "cell_type": "code",
      "metadata": {
        "id": "wtJeEwzncYon",
        "colab_type": "code",
        "colab": {}
      },
      "source": [
        "\n",
        "import pandas as pd\n",
        "import numpy as np\n",
        "from scipy import stats\n",
        "import seaborn as sns\n",
        "import matplotlib.pyplot as plt"
      ],
      "execution_count": 0,
      "outputs": []
    },
    {
      "cell_type": "code",
      "metadata": {
        "id": "eoH0Ap4WfMPH",
        "colab_type": "code",
        "colab": {}
      },
      "source": [
        "train = pd.read_csv(\"/content/gdrive/My Drive/American Express /train.csv\")\n",
        "test = pd.read_csv(\"/content/gdrive/My Drive/American Express /test.csv\")"
      ],
      "execution_count": 0,
      "outputs": []
    },
    {
      "cell_type": "code",
      "metadata": {
        "id": "T9u8C_1gfWld",
        "colab_type": "code",
        "colab": {}
      },
      "source": [
        "train_data =  train.copy()\n",
        "test_data = test.copy()"
      ],
      "execution_count": 0,
      "outputs": []
    },
    {
      "cell_type": "code",
      "metadata": {
        "id": "0T4xk8QVz9bl",
        "colab_type": "code",
        "colab": {}
      },
      "source": [
        "id1 = test_data['id']"
      ],
      "execution_count": 0,
      "outputs": []
    },
    {
      "cell_type": "code",
      "metadata": {
        "id": "WJ_Usog7fZVu",
        "colab_type": "code",
        "colab": {}
      },
      "source": [
        "y = train_data['cc_cons']"
      ],
      "execution_count": 0,
      "outputs": []
    },
    {
      "cell_type": "code",
      "metadata": {
        "id": "V6kb3GBkgUak",
        "colab_type": "code",
        "colab": {}
      },
      "source": [
        "len_train=len(train_data)\n",
        "len_test=len(test_data)"
      ],
      "execution_count": 0,
      "outputs": []
    },
    {
      "cell_type": "code",
      "metadata": {
        "id": "HBd1eR94hMNT",
        "colab_type": "code",
        "colab": {}
      },
      "source": [
        "train_data = train_data.drop(['cc_cons'],1)"
      ],
      "execution_count": 0,
      "outputs": []
    },
    {
      "cell_type": "code",
      "metadata": {
        "id": "kY-xBd19f4ku",
        "colab_type": "code",
        "colab": {}
      },
      "source": [
        "data = pd.concat([train_data,test_data],axis=0)"
      ],
      "execution_count": 0,
      "outputs": []
    },
    {
      "cell_type": "code",
      "metadata": {
        "id": "8Ix_xXp8gsSh",
        "colab_type": "code",
        "outputId": "05fc45f8-b534-44c2-e973-f0f2fee81876",
        "colab": {
          "base_uri": "https://localhost:8080/",
          "height": 34
        }
      },
      "source": [
        "data.shape\n"
      ],
      "execution_count": 0,
      "outputs": [
        {
          "output_type": "execute_result",
          "data": {
            "text/plain": [
              "(46887, 43)"
            ]
          },
          "metadata": {
            "tags": []
          },
          "execution_count": 311
        }
      ]
    },
    {
      "cell_type": "code",
      "metadata": {
        "id": "NF8Y8zGpguwf",
        "colab_type": "code",
        "outputId": "74e63906-f192-426e-bb22-fdc034e39e0f",
        "colab": {
          "base_uri": "https://localhost:8080/",
          "height": 756
        }
      },
      "source": [
        "data.isnull().sum()"
      ],
      "execution_count": 0,
      "outputs": [
        {
          "output_type": "execute_result",
          "data": {
            "text/plain": [
              "id                           0\n",
              "account_type                 0\n",
              "gender                       0\n",
              "age                          0\n",
              "region_code                  0\n",
              "cc_cons_apr                  0\n",
              "dc_cons_apr              27282\n",
              "cc_cons_may                  0\n",
              "dc_cons_may              24714\n",
              "cc_cons_jun                  0\n",
              "dc_cons_jun              30361\n",
              "cc_count_apr              3437\n",
              "cc_count_may              1695\n",
              "cc_count_jun              2224\n",
              "dc_count_apr             27282\n",
              "dc_count_may             24714\n",
              "dc_count_jun             22049\n",
              "card_lim                    12\n",
              "personal_loan_active     43011\n",
              "vehicle_loan_active      45686\n",
              "personal_loan_closed     42745\n",
              "vehicle_loan_closed      44581\n",
              "investment_1             44811\n",
              "investment_2             43522\n",
              "investment_3             44941\n",
              "investment_4             46308\n",
              "debit_amount_apr          2737\n",
              "credit_amount_apr         4767\n",
              "debit_count_apr           2546\n",
              "credit_count_apr          2546\n",
              "max_credit_amount_apr     4767\n",
              "debit_amount_may          3302\n",
              "credit_amount_may         4900\n",
              "credit_count_may          2968\n",
              "debit_count_may           2968\n",
              "max_credit_amount_may     4900\n",
              "debit_amount_jun          3140\n",
              "credit_amount_jun         2206\n",
              "credit_count_jun          2183\n",
              "debit_count_jun           2183\n",
              "max_credit_amount_jun     2206\n",
              "loan_enq                 46032\n",
              "emi_active                   0\n",
              "dtype: int64"
            ]
          },
          "metadata": {
            "tags": []
          },
          "execution_count": 312
        }
      ]
    },
    {
      "cell_type": "code",
      "metadata": {
        "id": "rPqcepg1k77l",
        "colab_type": "code",
        "colab": {}
      },
      "source": [
        "data = data.drop(['dc_cons_apr','dc_cons_may','dc_cons_jun','dc_count_apr','dc_count_may','dc_count_jun','personal_loan_active','vehicle_loan_active','personal_loan_closed','vehicle_loan_closed','investment_1','investment_2','investment_3','investment_4','loan_enq'],axis=1)"
      ],
      "execution_count": 0,
      "outputs": []
    },
    {
      "cell_type": "code",
      "metadata": {
        "id": "IwM9Tn2emU1A",
        "colab_type": "code",
        "outputId": "be8f4f4b-4bd3-43e3-af77-955718f1dc0a",
        "colab": {
          "base_uri": "https://localhost:8080/",
          "height": 34
        }
      },
      "source": [
        "data.shape"
      ],
      "execution_count": 0,
      "outputs": [
        {
          "output_type": "execute_result",
          "data": {
            "text/plain": [
              "(46887, 28)"
            ]
          },
          "metadata": {
            "tags": []
          },
          "execution_count": 314
        }
      ]
    },
    {
      "cell_type": "code",
      "metadata": {
        "id": "EG3buRaHmY7M",
        "colab_type": "code",
        "outputId": "1accf106-2108-4567-f1c6-f31a31363a5a",
        "colab": {
          "base_uri": "https://localhost:8080/",
          "height": 504
        }
      },
      "source": [
        "data.isnull().sum()"
      ],
      "execution_count": 0,
      "outputs": [
        {
          "output_type": "execute_result",
          "data": {
            "text/plain": [
              "id                          0\n",
              "account_type                0\n",
              "gender                      0\n",
              "age                         0\n",
              "region_code                 0\n",
              "cc_cons_apr                 0\n",
              "cc_cons_may                 0\n",
              "cc_cons_jun                 0\n",
              "cc_count_apr             3437\n",
              "cc_count_may             1695\n",
              "cc_count_jun             2224\n",
              "card_lim                   12\n",
              "debit_amount_apr         2737\n",
              "credit_amount_apr        4767\n",
              "debit_count_apr          2546\n",
              "credit_count_apr         2546\n",
              "max_credit_amount_apr    4767\n",
              "debit_amount_may         3302\n",
              "credit_amount_may        4900\n",
              "credit_count_may         2968\n",
              "debit_count_may          2968\n",
              "max_credit_amount_may    4900\n",
              "debit_amount_jun         3140\n",
              "credit_amount_jun        2206\n",
              "credit_count_jun         2183\n",
              "debit_count_jun          2183\n",
              "max_credit_amount_jun    2206\n",
              "emi_active                  0\n",
              "dtype: int64"
            ]
          },
          "metadata": {
            "tags": []
          },
          "execution_count": 315
        }
      ]
    },
    {
      "cell_type": "code",
      "metadata": {
        "id": "AunuC0Gmmbwv",
        "colab_type": "code",
        "colab": {}
      },
      "source": [
        "def mean_data(x):\n",
        "  data[x]=data[x].fillna(data[x].mean())\n",
        "\n",
        "def mode_data(x):\n",
        "  data[x]=data[x].fillna(int(data[x].mode()))  "
      ],
      "execution_count": 0,
      "outputs": []
    },
    {
      "cell_type": "code",
      "metadata": {
        "id": "aKcY4uHrny0u",
        "colab_type": "code",
        "colab": {}
      },
      "source": [
        "mean_data('debit_amount_apr')\n",
        "mean_data('credit_amount_apr')\n",
        "mean_data('max_credit_amount_apr')\n",
        "mean_data('debit_amount_may')\n",
        "mean_data('credit_amount_may')\n",
        "mean_data('max_credit_amount_may')\n",
        "mean_data('debit_amount_jun')\n",
        "mean_data('credit_amount_jun')\n",
        "mean_data('max_credit_amount_jun')\n"
      ],
      "execution_count": 0,
      "outputs": []
    },
    {
      "cell_type": "code",
      "metadata": {
        "id": "u7X4yCaKoQVg",
        "colab_type": "code",
        "colab": {}
      },
      "source": [
        "mode_data('cc_count_apr')\n",
        "mode_data('cc_count_may')\n",
        "mode_data('cc_count_jun')\n",
        "mode_data('card_lim')\n",
        "mode_data('debit_count_apr')\n",
        "mode_data('credit_count_apr')\n",
        "mode_data('credit_count_may')\n",
        "mode_data('debit_count_may')\n",
        "mode_data('credit_count_jun')\n",
        "mode_data('debit_count_jun')\n"
      ],
      "execution_count": 0,
      "outputs": []
    },
    {
      "cell_type": "code",
      "metadata": {
        "id": "R50zNs3sb5f1",
        "colab_type": "code",
        "colab": {}
      },
      "source": [
        "def out(x):\n",
        "  data.boxplot(column = [x],return_type='axes')\n",
        "  Q1 = data[x].quantile(0.25)\n",
        "  Q3 = data[x].quantile(0.75)\n",
        "  IQR = Q3 - Q1\n",
        "  print(IQR)\n",
        "  max1=Q3+1.5*IQR\n",
        "  min1=Q1-1.5*IQR\n",
        "  data.loc[data1[x]>max1,[x]]=max1\n",
        "  data.loc[data1[x]<min1,[x]]=min1\n",
        "  data.boxplot(column = [x],return_type='axes')"
      ],
      "execution_count": 0,
      "outputs": []
    },
    {
      "cell_type": "code",
      "metadata": {
        "id": "6lqY4j_5pH5R",
        "colab_type": "code",
        "colab": {}
      },
      "source": [
        "data.isnull().sum()"
      ],
      "execution_count": 0,
      "outputs": []
    },
    {
      "cell_type": "code",
      "metadata": {
        "id": "T83XefuLznmJ",
        "colab_type": "code",
        "colab": {}
      },
      "source": [
        "data1 = data.copy()"
      ],
      "execution_count": 0,
      "outputs": []
    },
    {
      "cell_type": "code",
      "metadata": {
        "id": "w-4DHYMe0Csu",
        "colab_type": "code",
        "colab": {}
      },
      "source": [
        "data1 = data1.drop(['id'],axis=1) "
      ],
      "execution_count": 0,
      "outputs": []
    },
    {
      "cell_type": "code",
      "metadata": {
        "id": "ahjAIkPOfSSL",
        "colab_type": "code",
        "colab": {}
      },
      "source": [
        "c = data1.columns"
      ],
      "execution_count": 0,
      "outputs": []
    },
    {
      "cell_type": "code",
      "metadata": {
        "id": "FU0IqD9lfTC_",
        "colab_type": "code",
        "colab": {}
      },
      "source": [
        "c=c[2:]"
      ],
      "execution_count": 0,
      "outputs": []
    },
    {
      "cell_type": "code",
      "metadata": {
        "id": "cprfPHzzfjyn",
        "colab_type": "code",
        "colab": {}
      },
      "source": [
        "c"
      ],
      "execution_count": 0,
      "outputs": []
    },
    {
      "cell_type": "code",
      "metadata": {
        "id": "IUubjZradzVu",
        "colab_type": "code",
        "colab": {}
      },
      "source": [
        " \n",
        "for i in range(len(c)):\n",
        "  out(c[i])"
      ],
      "execution_count": 0,
      "outputs": []
    },
    {
      "cell_type": "code",
      "metadata": {
        "id": "O7FDBYrt0GJF",
        "colab_type": "code",
        "colab": {}
      },
      "source": [
        "data1.head(4)"
      ],
      "execution_count": 0,
      "outputs": []
    },
    {
      "cell_type": "code",
      "metadata": {
        "id": "PqFhFBn70LjC",
        "colab_type": "code",
        "colab": {}
      },
      "source": [
        "train_data_final = data1[:len_train]"
      ],
      "execution_count": 0,
      "outputs": []
    },
    {
      "cell_type": "code",
      "metadata": {
        "id": "GNbw1SJI0R35",
        "colab_type": "code",
        "outputId": "6efca8b8-f74d-41a2-d910-f2bd13fb0987",
        "colab": {
          "base_uri": "https://localhost:8080/",
          "height": 186
        }
      },
      "source": [
        "train_data_final.tail(4)"
      ],
      "execution_count": 0,
      "outputs": [
        {
          "output_type": "execute_result",
          "data": {
            "text/html": [
              "<div>\n",
              "<style scoped>\n",
              "    .dataframe tbody tr th:only-of-type {\n",
              "        vertical-align: middle;\n",
              "    }\n",
              "\n",
              "    .dataframe tbody tr th {\n",
              "        vertical-align: top;\n",
              "    }\n",
              "\n",
              "    .dataframe thead th {\n",
              "        text-align: right;\n",
              "    }\n",
              "</style>\n",
              "<table border=\"1\" class=\"dataframe\">\n",
              "  <thead>\n",
              "    <tr style=\"text-align: right;\">\n",
              "      <th></th>\n",
              "      <th>account_type</th>\n",
              "      <th>gender</th>\n",
              "      <th>age</th>\n",
              "      <th>region_code</th>\n",
              "      <th>cc_cons_apr</th>\n",
              "      <th>cc_cons_may</th>\n",
              "      <th>cc_cons_jun</th>\n",
              "      <th>cc_count_apr</th>\n",
              "      <th>cc_count_may</th>\n",
              "      <th>cc_count_jun</th>\n",
              "      <th>card_lim</th>\n",
              "      <th>debit_amount_apr</th>\n",
              "      <th>credit_amount_apr</th>\n",
              "      <th>debit_count_apr</th>\n",
              "      <th>credit_count_apr</th>\n",
              "      <th>max_credit_amount_apr</th>\n",
              "      <th>debit_amount_may</th>\n",
              "      <th>credit_amount_may</th>\n",
              "      <th>credit_count_may</th>\n",
              "      <th>debit_count_may</th>\n",
              "      <th>max_credit_amount_may</th>\n",
              "      <th>debit_amount_jun</th>\n",
              "      <th>credit_amount_jun</th>\n",
              "      <th>credit_count_jun</th>\n",
              "      <th>debit_count_jun</th>\n",
              "      <th>max_credit_amount_jun</th>\n",
              "      <th>emi_active</th>\n",
              "    </tr>\n",
              "  </thead>\n",
              "  <tbody>\n",
              "    <tr>\n",
              "      <th>32816</th>\n",
              "      <td>current</td>\n",
              "      <td>M</td>\n",
              "      <td>33</td>\n",
              "      <td>623</td>\n",
              "      <td>1627.0</td>\n",
              "      <td>3494.54</td>\n",
              "      <td>3242.0</td>\n",
              "      <td>2.0</td>\n",
              "      <td>2.0</td>\n",
              "      <td>27.0</td>\n",
              "      <td>30000.0</td>\n",
              "      <td>24530.25</td>\n",
              "      <td>24878.39</td>\n",
              "      <td>13.0</td>\n",
              "      <td>2.0</td>\n",
              "      <td>24637.0</td>\n",
              "      <td>14646.75</td>\n",
              "      <td>153096.75</td>\n",
              "      <td>3.0</td>\n",
              "      <td>9.0</td>\n",
              "      <td>136503.0</td>\n",
              "      <td>124930.00</td>\n",
              "      <td>17209.93</td>\n",
              "      <td>3.0</td>\n",
              "      <td>20.0</td>\n",
              "      <td>16403.0</td>\n",
              "      <td>3702.50</td>\n",
              "    </tr>\n",
              "    <tr>\n",
              "      <th>32817</th>\n",
              "      <td>current</td>\n",
              "      <td>M</td>\n",
              "      <td>25</td>\n",
              "      <td>245</td>\n",
              "      <td>22409.0</td>\n",
              "      <td>41241.00</td>\n",
              "      <td>2087.0</td>\n",
              "      <td>1.0</td>\n",
              "      <td>56.0</td>\n",
              "      <td>18.0</td>\n",
              "      <td>40000.0</td>\n",
              "      <td>24704.56</td>\n",
              "      <td>12635.00</td>\n",
              "      <td>25.0</td>\n",
              "      <td>1.0</td>\n",
              "      <td>12607.0</td>\n",
              "      <td>394.00</td>\n",
              "      <td>17173.00</td>\n",
              "      <td>1.0</td>\n",
              "      <td>2.0</td>\n",
              "      <td>16923.0</td>\n",
              "      <td>34993.98</td>\n",
              "      <td>25289.98</td>\n",
              "      <td>6.0</td>\n",
              "      <td>20.0</td>\n",
              "      <td>16870.0</td>\n",
              "      <td>0.00</td>\n",
              "    </tr>\n",
              "    <tr>\n",
              "      <th>32818</th>\n",
              "      <td>current</td>\n",
              "      <td>M</td>\n",
              "      <td>33</td>\n",
              "      <td>535</td>\n",
              "      <td>9877.3</td>\n",
              "      <td>9018.22</td>\n",
              "      <td>2804.0</td>\n",
              "      <td>17.0</td>\n",
              "      <td>15.0</td>\n",
              "      <td>24.0</td>\n",
              "      <td>80000.0</td>\n",
              "      <td>60841.56</td>\n",
              "      <td>97118.36</td>\n",
              "      <td>14.0</td>\n",
              "      <td>10.0</td>\n",
              "      <td>45751.0</td>\n",
              "      <td>48230.35</td>\n",
              "      <td>12248.00</td>\n",
              "      <td>3.0</td>\n",
              "      <td>4.0</td>\n",
              "      <td>6500.0</td>\n",
              "      <td>44352.21</td>\n",
              "      <td>44302.36</td>\n",
              "      <td>9.0</td>\n",
              "      <td>6.0</td>\n",
              "      <td>19087.0</td>\n",
              "      <td>1716.37</td>\n",
              "    </tr>\n",
              "    <tr>\n",
              "      <th>32819</th>\n",
              "      <td>current</td>\n",
              "      <td>M</td>\n",
              "      <td>32</td>\n",
              "      <td>254</td>\n",
              "      <td>18797.0</td>\n",
              "      <td>6210.48</td>\n",
              "      <td>2196.0</td>\n",
              "      <td>10.0</td>\n",
              "      <td>9.0</td>\n",
              "      <td>4.0</td>\n",
              "      <td>97000.0</td>\n",
              "      <td>30605.75</td>\n",
              "      <td>32754.00</td>\n",
              "      <td>8.0</td>\n",
              "      <td>4.0</td>\n",
              "      <td>16964.0</td>\n",
              "      <td>23604.88</td>\n",
              "      <td>24241.29</td>\n",
              "      <td>6.0</td>\n",
              "      <td>7.0</td>\n",
              "      <td>16964.0</td>\n",
              "      <td>28647.08</td>\n",
              "      <td>26971.69</td>\n",
              "      <td>6.0</td>\n",
              "      <td>8.0</td>\n",
              "      <td>16964.0</td>\n",
              "      <td>0.00</td>\n",
              "    </tr>\n",
              "  </tbody>\n",
              "</table>\n",
              "</div>"
            ],
            "text/plain": [
              "      account_type gender  ...  max_credit_amount_jun  emi_active\n",
              "32816      current      M  ...                16403.0     3702.50\n",
              "32817      current      M  ...                16870.0        0.00\n",
              "32818      current      M  ...                19087.0     1716.37\n",
              "32819      current      M  ...                16964.0        0.00\n",
              "\n",
              "[4 rows x 27 columns]"
            ]
          },
          "metadata": {
            "tags": []
          },
          "execution_count": 330
        }
      ]
    },
    {
      "cell_type": "code",
      "metadata": {
        "id": "Gq2x0Eiq0qSx",
        "colab_type": "code",
        "colab": {}
      },
      "source": [
        "test_data_final = data1[len_train:]"
      ],
      "execution_count": 0,
      "outputs": []
    },
    {
      "cell_type": "code",
      "metadata": {
        "id": "f4atp_4O1KfY",
        "colab_type": "code",
        "outputId": "5f6f6cf3-9bfb-4742-b387-4a6e6e86a779",
        "colab": {
          "base_uri": "https://localhost:8080/",
          "height": 186
        }
      },
      "source": [
        "test_data_final.head(4)"
      ],
      "execution_count": 0,
      "outputs": [
        {
          "output_type": "execute_result",
          "data": {
            "text/html": [
              "<div>\n",
              "<style scoped>\n",
              "    .dataframe tbody tr th:only-of-type {\n",
              "        vertical-align: middle;\n",
              "    }\n",
              "\n",
              "    .dataframe tbody tr th {\n",
              "        vertical-align: top;\n",
              "    }\n",
              "\n",
              "    .dataframe thead th {\n",
              "        text-align: right;\n",
              "    }\n",
              "</style>\n",
              "<table border=\"1\" class=\"dataframe\">\n",
              "  <thead>\n",
              "    <tr style=\"text-align: right;\">\n",
              "      <th></th>\n",
              "      <th>account_type</th>\n",
              "      <th>gender</th>\n",
              "      <th>age</th>\n",
              "      <th>region_code</th>\n",
              "      <th>cc_cons_apr</th>\n",
              "      <th>cc_cons_may</th>\n",
              "      <th>cc_cons_jun</th>\n",
              "      <th>cc_count_apr</th>\n",
              "      <th>cc_count_may</th>\n",
              "      <th>cc_count_jun</th>\n",
              "      <th>card_lim</th>\n",
              "      <th>debit_amount_apr</th>\n",
              "      <th>credit_amount_apr</th>\n",
              "      <th>debit_count_apr</th>\n",
              "      <th>credit_count_apr</th>\n",
              "      <th>max_credit_amount_apr</th>\n",
              "      <th>debit_amount_may</th>\n",
              "      <th>credit_amount_may</th>\n",
              "      <th>credit_count_may</th>\n",
              "      <th>debit_count_may</th>\n",
              "      <th>max_credit_amount_may</th>\n",
              "      <th>debit_amount_jun</th>\n",
              "      <th>credit_amount_jun</th>\n",
              "      <th>credit_count_jun</th>\n",
              "      <th>debit_count_jun</th>\n",
              "      <th>max_credit_amount_jun</th>\n",
              "      <th>emi_active</th>\n",
              "    </tr>\n",
              "  </thead>\n",
              "  <tbody>\n",
              "    <tr>\n",
              "      <th>0</th>\n",
              "      <td>saving</td>\n",
              "      <td>M</td>\n",
              "      <td>36</td>\n",
              "      <td>447</td>\n",
              "      <td>17942.70</td>\n",
              "      <td>1656.00</td>\n",
              "      <td>4551.00</td>\n",
              "      <td>6.0</td>\n",
              "      <td>2.0</td>\n",
              "      <td>6.0</td>\n",
              "      <td>75000.0</td>\n",
              "      <td>10806.930000</td>\n",
              "      <td>25279.000000</td>\n",
              "      <td>7.0</td>\n",
              "      <td>2.0</td>\n",
              "      <td>20000.000000</td>\n",
              "      <td>21530.340000</td>\n",
              "      <td>15416.520000</td>\n",
              "      <td>3.0</td>\n",
              "      <td>7.0</td>\n",
              "      <td>10000.000000</td>\n",
              "      <td>17316.440000</td>\n",
              "      <td>5154.000000</td>\n",
              "      <td>2.0</td>\n",
              "      <td>8.0</td>\n",
              "      <td>5000.000000</td>\n",
              "      <td>0.00</td>\n",
              "    </tr>\n",
              "    <tr>\n",
              "      <th>1</th>\n",
              "      <td>current</td>\n",
              "      <td>M</td>\n",
              "      <td>31</td>\n",
              "      <td>233</td>\n",
              "      <td>44870.36</td>\n",
              "      <td>34177.00</td>\n",
              "      <td>25889.21</td>\n",
              "      <td>13.0</td>\n",
              "      <td>19.0</td>\n",
              "      <td>36.0</td>\n",
              "      <td>116000.0</td>\n",
              "      <td>70028.639754</td>\n",
              "      <td>74993.286848</td>\n",
              "      <td>8.0</td>\n",
              "      <td>2.0</td>\n",
              "      <td>46056.611692</td>\n",
              "      <td>66735.758801</td>\n",
              "      <td>78996.269685</td>\n",
              "      <td>2.0</td>\n",
              "      <td>7.0</td>\n",
              "      <td>49305.027192</td>\n",
              "      <td>76020.654885</td>\n",
              "      <td>74444.931073</td>\n",
              "      <td>3.0</td>\n",
              "      <td>9.0</td>\n",
              "      <td>44012.074537</td>\n",
              "      <td>0.00</td>\n",
              "    </tr>\n",
              "    <tr>\n",
              "      <th>2</th>\n",
              "      <td>current</td>\n",
              "      <td>M</td>\n",
              "      <td>26</td>\n",
              "      <td>823</td>\n",
              "      <td>1073.00</td>\n",
              "      <td>4141.00</td>\n",
              "      <td>6740.29</td>\n",
              "      <td>3.0</td>\n",
              "      <td>5.0</td>\n",
              "      <td>2.0</td>\n",
              "      <td>40000.0</td>\n",
              "      <td>83205.220000</td>\n",
              "      <td>105813.000000</td>\n",
              "      <td>33.0</td>\n",
              "      <td>5.0</td>\n",
              "      <td>39000.000000</td>\n",
              "      <td>90312.480000</td>\n",
              "      <td>65227.000000</td>\n",
              "      <td>4.0</td>\n",
              "      <td>22.0</td>\n",
              "      <td>26926.000000</td>\n",
              "      <td>33981.000000</td>\n",
              "      <td>37762.000000</td>\n",
              "      <td>3.0</td>\n",
              "      <td>15.0</td>\n",
              "      <td>29352.000000</td>\n",
              "      <td>2885.82</td>\n",
              "    </tr>\n",
              "    <tr>\n",
              "      <th>3</th>\n",
              "      <td>current</td>\n",
              "      <td>M</td>\n",
              "      <td>39</td>\n",
              "      <td>878</td>\n",
              "      <td>33060.58</td>\n",
              "      <td>3797.12</td>\n",
              "      <td>291.00</td>\n",
              "      <td>16.0</td>\n",
              "      <td>12.0</td>\n",
              "      <td>15.0</td>\n",
              "      <td>86000.0</td>\n",
              "      <td>45342.250000</td>\n",
              "      <td>59640.000000</td>\n",
              "      <td>4.0</td>\n",
              "      <td>5.0</td>\n",
              "      <td>28753.000000</td>\n",
              "      <td>84699.300000</td>\n",
              "      <td>63393.000000</td>\n",
              "      <td>4.0</td>\n",
              "      <td>8.0</td>\n",
              "      <td>57185.000000</td>\n",
              "      <td>52927.000000</td>\n",
              "      <td>89425.000000</td>\n",
              "      <td>7.0</td>\n",
              "      <td>11.0</td>\n",
              "      <td>32696.000000</td>\n",
              "      <td>0.00</td>\n",
              "    </tr>\n",
              "  </tbody>\n",
              "</table>\n",
              "</div>"
            ],
            "text/plain": [
              "  account_type gender  age  ...  debit_count_jun  max_credit_amount_jun  emi_active\n",
              "0       saving      M   36  ...              8.0            5000.000000        0.00\n",
              "1      current      M   31  ...              9.0           44012.074537        0.00\n",
              "2      current      M   26  ...             15.0           29352.000000     2885.82\n",
              "3      current      M   39  ...             11.0           32696.000000        0.00\n",
              "\n",
              "[4 rows x 27 columns]"
            ]
          },
          "metadata": {
            "tags": []
          },
          "execution_count": 332
        }
      ]
    },
    {
      "cell_type": "code",
      "metadata": {
        "id": "tnVD7Klx1Ol4",
        "colab_type": "code",
        "outputId": "75d1cc51-4c05-4e43-fd3d-d35bf38cf21b",
        "colab": {
          "base_uri": "https://localhost:8080/",
          "height": 34
        }
      },
      "source": [
        "len(train_data_final),len(y)"
      ],
      "execution_count": 0,
      "outputs": [
        {
          "output_type": "execute_result",
          "data": {
            "text/plain": [
              "(32820, 32820)"
            ]
          },
          "metadata": {
            "tags": []
          },
          "execution_count": 333
        }
      ]
    },
    {
      "cell_type": "code",
      "metadata": {
        "id": "3x3ZzQlz30Fz",
        "colab_type": "code",
        "colab": {}
      },
      "source": [
        "scaler=StandardScaler()"
      ],
      "execution_count": 0,
      "outputs": []
    },
    {
      "cell_type": "code",
      "metadata": {
        "id": "BjBb0XBD4boM",
        "colab_type": "code",
        "colab": {}
      },
      "source": [
        "numerical_data=train_data_final.select_dtypes(include=np.number)\n",
        "cols = numerical_data.columns\n",
        "numerical_data=scaler.fit_transform(numerical_data)\n",
        "numerical_data = pd.DataFrame(numerical_data,columns=cols)"
      ],
      "execution_count": 0,
      "outputs": []
    },
    {
      "cell_type": "code",
      "metadata": {
        "id": "ZUXnnB845Qye",
        "colab_type": "code",
        "colab": {}
      },
      "source": [
        "le = preprocessing.LabelEncoder()"
      ],
      "execution_count": 0,
      "outputs": []
    },
    {
      "cell_type": "code",
      "metadata": {
        "id": "QtMazZrB1zq9",
        "colab_type": "code",
        "colab": {}
      },
      "source": [
        "categorical_data = train_data_final.select_dtypes(include=np.object)\n",
        "categorical_data['account_type']=le.fit_transform(categorical_data['account_type'])\n",
        "categorical_data['gender']=le.fit_transform(categorical_data['gender'])"
      ],
      "execution_count": 0,
      "outputs": []
    },
    {
      "cell_type": "code",
      "metadata": {
        "id": "AIarcxZl146v",
        "colab_type": "code",
        "colab": {}
      },
      "source": [
        "train_data_final = pd.concat([numerical_data,categorical_data],axis=1)"
      ],
      "execution_count": 0,
      "outputs": []
    },
    {
      "cell_type": "code",
      "metadata": {
        "id": "bJlAeIrN3eKS",
        "colab_type": "code",
        "colab": {}
      },
      "source": [
        "train_data_final.head(5)"
      ],
      "execution_count": 0,
      "outputs": []
    },
    {
      "cell_type": "code",
      "metadata": {
        "id": "-cWnrZ3x44nB",
        "colab_type": "code",
        "outputId": "b4088989-e89c-45c7-a557-39b3cb1dbe5a",
        "colab": {
          "base_uri": "https://localhost:8080/",
          "height": 34
        }
      },
      "source": [
        "X_train, X_test, y_train, y_test = tts(train_data_final,y,test_size=0.3,random_state=0)\n",
        "X_train.shape, X_test.shape"
      ],
      "execution_count": 0,
      "outputs": [
        {
          "output_type": "execute_result",
          "data": {
            "text/plain": [
              "((22974, 27), (9846, 27))"
            ]
          },
          "metadata": {
            "tags": []
          },
          "execution_count": 340
        }
      ]
    },
    {
      "cell_type": "code",
      "metadata": {
        "id": "Z9ZVtSOPPahP",
        "colab_type": "code",
        "outputId": "052942f0-2169-4db9-f668-219bfd1dfdb3",
        "colab": {
          "base_uri": "https://localhost:8080/",
          "height": 336
        }
      },
      "source": [
        "NN_model = Sequential()\n",
        "\n",
        "# The Input Layer :\n",
        "NN_model.add(Dense(512, kernel_initializer='normal',input_dim = X_train.shape[1], activation='relu'))\n",
        "\n",
        "# The Hidden Layers :\n",
        "NN_model.add(Dense(256, kernel_initializer='normal',activation='relu'))\n",
        "NN_model.add(Dense(256, kernel_initializer='normal',activation='relu'))\n",
        "NN_model.add(Dense(256, kernel_initializer='normal',activation='relu'))\n",
        "NN_model.add(Dense(256, kernel_initializer='normal',activation='relu'))\n",
        "# The Output Layer :\n",
        "NN_model.add(Dense(1, kernel_initializer='normal',activation='linear'))\n",
        "\n",
        "# Compile the network :\n",
        "NN_model.compile(loss='mean_absolute_error', optimizer='adam', metrics=['mean_absolute_error'])\n",
        "NN_model.summary()"
      ],
      "execution_count": 0,
      "outputs": [
        {
          "output_type": "stream",
          "text": [
            "_________________________________________________________________\n",
            "Layer (type)                 Output Shape              Param #   \n",
            "=================================================================\n",
            "dense_94 (Dense)             (None, 512)               14336     \n",
            "_________________________________________________________________\n",
            "dense_95 (Dense)             (None, 256)               131328    \n",
            "_________________________________________________________________\n",
            "dense_96 (Dense)             (None, 256)               65792     \n",
            "_________________________________________________________________\n",
            "dense_97 (Dense)             (None, 256)               65792     \n",
            "_________________________________________________________________\n",
            "dense_98 (Dense)             (None, 256)               65792     \n",
            "_________________________________________________________________\n",
            "dense_99 (Dense)             (None, 1)                 257       \n",
            "=================================================================\n",
            "Total params: 343,297\n",
            "Trainable params: 343,297\n",
            "Non-trainable params: 0\n",
            "_________________________________________________________________\n"
          ],
          "name": "stdout"
        }
      ]
    },
    {
      "cell_type": "code",
      "metadata": {
        "id": "NJMlMHaVP8Z4",
        "colab_type": "code",
        "colab": {}
      },
      "source": [
        "checkpoint_name = 'Weights-{epoch:03d}--{val_loss:.5f}.hdf5' \n",
        "checkpoint = ModelCheckpoint(checkpoint_name, monitor='val_loss', verbose = 3, save_best_only = True, mode ='auto')\n",
        "callbacks_list = [checkpoint]"
      ],
      "execution_count": 0,
      "outputs": []
    },
    {
      "cell_type": "code",
      "metadata": {
        "id": "BdIOhrGjPsnr",
        "colab_type": "code",
        "colab": {}
      },
      "source": [
        "NN_model.fit(X_train, y_train, epochs=50, batch_size=16, validation_split = 0.2, callbacks=callbacks_list)\n"
      ],
      "execution_count": 0,
      "outputs": []
    },
    {
      "cell_type": "code",
      "metadata": {
        "id": "18WRMBK7QIh2",
        "colab_type": "code",
        "colab": {}
      },
      "source": [
        "wights_file = '/content/Weights-010--4980.93799.hdf5' # choose the best checkpoint \n",
        "NN_model.load_weights(wights_file) # load it\n",
        "NN_model.compile(loss='mean_absolute_error', optimizer='adam', metrics=['mean_absolute_error'])"
      ],
      "execution_count": 0,
      "outputs": []
    },
    {
      "cell_type": "code",
      "metadata": {
        "id": "ag0KumSOQUGl",
        "colab_type": "code",
        "colab": {}
      },
      "source": [
        "pred = NN_model.predict(X_test)"
      ],
      "execution_count": 0,
      "outputs": []
    },
    {
      "cell_type": "code",
      "metadata": {
        "id": "WoXOPxZX-GjV",
        "colab_type": "code",
        "outputId": "7da15334-8255-41bd-cb15-51c6d76fc08d",
        "colab": {
          "base_uri": "https://localhost:8080/",
          "height": 34
        }
      },
      "source": [
        "r2_score(y_test,pred)"
      ],
      "execution_count": 0,
      "outputs": [
        {
          "output_type": "execute_result",
          "data": {
            "text/plain": [
              "0.14916936980189088"
            ]
          },
          "metadata": {
            "tags": []
          },
          "execution_count": 346
        }
      ]
    },
    {
      "cell_type": "code",
      "metadata": {
        "id": "CbNqGHI--lfg",
        "colab_type": "code",
        "outputId": "a366e9c8-8e06-4cee-ebaf-6e6fd6aca3b1",
        "colab": {
          "base_uri": "https://localhost:8080/",
          "height": 34
        }
      },
      "source": [
        "mean_squared_error(y_test,pred)"
      ],
      "execution_count": 0,
      "outputs": [
        {
          "output_type": "execute_result",
          "data": {
            "text/plain": [
              "133832649.96336931"
            ]
          },
          "metadata": {
            "tags": []
          },
          "execution_count": 347
        }
      ]
    },
    {
      "cell_type": "code",
      "metadata": {
        "id": "Lzh445xD_BM4",
        "colab_type": "code",
        "outputId": "96cd9d97-32a5-435b-f99d-04628d1b100f",
        "colab": {
          "base_uri": "https://localhost:8080/",
          "height": 34
        }
      },
      "source": [
        "sqrt(mean_squared_log_error(y_test,pred))*100"
      ],
      "execution_count": 0,
      "outputs": [
        {
          "output_type": "execute_result",
          "data": {
            "text/plain": [
              "118.81738625736197"
            ]
          },
          "metadata": {
            "tags": []
          },
          "execution_count": 348
        }
      ]
    },
    {
      "cell_type": "code",
      "metadata": {
        "id": "iGrC-6bs_kFr",
        "colab_type": "code",
        "colab": {}
      },
      "source": [
        "\n",
        "def make_submission(prediction, sub_name):\n",
        "  my_submission = pd.DataFrame({'Id':pd.read_csv('test.csv').Id,'SalePrice':prediction})\n",
        "  my_submission.to_csv('{}.csv'.format(sub_name),index=False)\n",
        "  print('A submission file has been made')\n",
        "\n",
        "predictions = NN_model.predict(test)\n",
        "make_submission(predictions[:,0],'submission(NN).csv')"
      ],
      "execution_count": 0,
      "outputs": []
    }
  ]
}